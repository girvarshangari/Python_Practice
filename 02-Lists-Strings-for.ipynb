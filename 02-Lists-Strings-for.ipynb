{
 "cells": [
  {
   "cell_type": "markdown",
   "metadata": {
    "id": "PjerStuq6R2n"
   },
   "source": [
    "# Python Quickstart\n",
    "#### Lists and strings\n",
    "#### for\n",
    "Lists are the simplest containers that are an integral part of the Python language. **for** loops are the standard way to iterate over all types of containers; so we will look at both of them together."
   ]
  },
  {
   "cell_type": "markdown",
   "metadata": {
    "id": "TcAdxy7dW6Wc"
   },
   "source": [
    "#### strings\n",
    "Python strings can be enlosed in single quotes or double quotes or triple quotes! Let us look at each of them"
   ]
  },
  {
   "cell_type": "code",
   "execution_count": 1,
   "metadata": {
    "colab": {
     "base_uri": "https://localhost:8080/"
    },
    "executionInfo": {
     "elapsed": 495,
     "status": "ok",
     "timestamp": 1649421121655,
     "user": {
      "displayName": "Hitesh Sharma",
      "userId": "00702427141854307722"
     },
     "user_tz": -330
    },
    "id": "Sw7fMNEOW9bi",
    "outputId": "208d3a1f-5819-437b-a600-52c6defeffd7"
   },
   "outputs": [
    {
     "name": "stdout",
     "output_type": "stream",
     "text": [
      "Tests, Quizzes, Individual Labs, Group Labs and Hackathons\n"
     ]
    }
   ],
   "source": [
    "grading = \"Tests, Quizzes, Individual Labs, Group Labs and Hackathons\"\n",
    "print(grading)"
   ]
  },
  {
   "cell_type": "code",
   "execution_count": 2,
   "metadata": {
    "colab": {
     "base_uri": "https://localhost:8080/"
    },
    "executionInfo": {
     "elapsed": 566,
     "status": "ok",
     "timestamp": 1649421129410,
     "user": {
      "displayName": "Hitesh Sharma",
      "userId": "00702427141854307722"
     },
     "user_tz": -330
    },
    "id": "so4ipaxUXMPS",
    "outputId": "05827056-180f-4a52-9a39-749578973ce5"
   },
   "outputs": [
    {
     "name": "stdout",
     "output_type": "stream",
     "text": [
      "CFU's, Analytical, References and Comprehension\n"
     ]
    }
   ],
   "source": [
    "tests = \"CFU's, Analytical, References and Comprehension\"\n",
    "print(tests)"
   ]
  },
  {
   "cell_type": "markdown",
   "metadata": {
    "id": "3gTJCEKqXox4"
   },
   "source": [
    "Note how in the string *tests* the single quote is accepted as part of the string without any special escpae mechanism. Similarly we can create and use strings with double quotes inside by enclosing the whole string in single quotes. Here is an example."
   ]
  },
  {
   "cell_type": "code",
   "execution_count": 3,
   "metadata": {
    "colab": {
     "base_uri": "https://localhost:8080/"
    },
    "executionInfo": {
     "elapsed": 840,
     "status": "ok",
     "timestamp": 1649421156833,
     "user": {
      "displayName": "Hitesh Sharma",
      "userId": "00702427141854307722"
     },
     "user_tz": -330
    },
    "id": "28eCGUkJXoY2",
    "outputId": "001df0a0-7b69-4c91-82a7-bb4307b8d78a"
   },
   "outputs": [
    {
     "name": "stdout",
     "output_type": "stream",
     "text": [
      "Almost all ask \"What is the best k?\" when doing kNN\n"
     ]
    }
   ],
   "source": [
    "faq = 'Almost all ask \"What is the best k?\" when doing kNN'\n",
    "print(faq)"
   ]
  },
  {
   "cell_type": "markdown",
   "metadata": {
    "id": "T9e3wDov6R3M"
   },
   "source": [
    "Triple quoted strings are best used for documentation. They are also useful for storing long strings.\n",
    " * We can use single or double quotes\n",
    " * We can also use single quotes or double quotes within\n",
    " * The line breaks etc are captured; that is there is no need for \\n"
   ]
  },
  {
   "cell_type": "code",
   "execution_count": 4,
   "metadata": {
    "colab": {
     "base_uri": "https://localhost:8080/"
    },
    "executionInfo": {
     "elapsed": 581,
     "status": "ok",
     "timestamp": 1649421201532,
     "user": {
      "displayName": "Hitesh Sharma",
      "userId": "00702427141854307722"
     },
     "user_tz": -330
    },
    "id": "gHz79V3G6R3P",
    "outputId": "c14f58b5-9782-4494-9b0d-bc8fbfb15040"
   },
   "outputs": [
    {
     "name": "stdout",
     "output_type": "stream",
     "text": [
      "A long time ago, in a galaxy far far away ...\n",
      "\n",
      "It is a period of civil war. Rebel spaceships, striking \n",
      "from a hidden base, have won their first victory against \n",
      "the evil Galactic Empire.\n",
      "\n",
      "During the battle, Rebel spies managed to steal secret \n",
      "plans to the Empire's ultimate weapon, the DEATH STAR, \n",
      "an armored space station with enough power to destroy an entire planet.\n",
      "\n",
      "Pursued by the Empire's sinister agents, Princess Leia \n",
      "races home aboard her starship, custodian of the stolen \n",
      "plans that can save her people and restore freedom to the galaxy....\n"
     ]
    }
   ],
   "source": [
    "story = \"\"\"A long time ago, in a galaxy far far away ...\n",
    "\n",
    "It is a period of civil war. Rebel spaceships, striking \n",
    "from a hidden base, have won their first victory against \n",
    "the evil Galactic Empire.\n",
    "\n",
    "During the battle, Rebel spies managed to steal secret \n",
    "plans to the Empire's ultimate weapon, the DEATH STAR, \n",
    "an armored space station with enough power to destroy an entire planet.\n",
    "\n",
    "Pursued by the Empire's sinister agents, Princess Leia \n",
    "races home aboard her starship, custodian of the stolen \n",
    "plans that can save her people and restore freedom to the galaxy....\"\"\"\n",
    "print(story)"
   ]
  },
  {
   "cell_type": "markdown",
   "metadata": {
    "id": "YEXtThZIX0SA"
   },
   "source": [
    "##### Simple string operations\n",
    " * Concatnate by +, \n",
    " * multiple concatenation by * \n",
    " * check for substring with **in**\n",
    " * determine the size (number of characters) using *len*"
   ]
  },
  {
   "cell_type": "code",
   "execution_count": 5,
   "metadata": {
    "colab": {
     "base_uri": "https://localhost:8080/"
    },
    "executionInfo": {
     "elapsed": 564,
     "status": "ok",
     "timestamp": 1649421597299,
     "user": {
      "displayName": "Hitesh Sharma",
      "userId": "00702427141854307722"
     },
     "user_tz": -330
    },
    "id": "Bin4e9DD6R3Y",
    "outputId": "da31b711-81b5-4863-cd97-ba910e12d282"
   },
   "outputs": [
    {
     "name": "stdout",
     "output_type": "stream",
     "text": [
      "Helloworld!\n",
      "Hello world!\n",
      "HelloHelloHelloHello   world!world!\n",
      "True\n",
      "False\n",
      "35\n"
     ]
    }
   ],
   "source": [
    "h = \"Hello\"\n",
    "w = \"world!\"\n",
    "hw = h + w\n",
    "print(hw)\n",
    "hsw = h + ' ' + w\n",
    "print(hsw)\n",
    "h4s3w2 = 4 * h + \" \" * 3 + w * 2\n",
    "print(h4s3w2)\n",
    "print(h in hsw)\n",
    "print(' ' in hw)\n",
    "print(len(h4s3w2))"
   ]
  },
  {
   "cell_type": "markdown",
   "metadata": {
    "id": "o1YBOu2v6R3f"
   },
   "source": [
    "#### Lists\n",
    "Let us take a look at lists. A list is a collection of things, enclosed in [] and separated by commas. A list is heterogenous; that is the data types of the things need not be the same."
   ]
  },
  {
   "cell_type": "code",
   "execution_count": 6,
   "metadata": {
    "executionInfo": {
     "elapsed": 591,
     "status": "ok",
     "timestamp": 1649422146921,
     "user": {
      "displayName": "Hitesh Sharma",
      "userId": "00702427141854307722"
     },
     "user_tz": -330
    },
    "id": "RKbOr8eM6R3h"
   },
   "outputs": [],
   "source": [
    "f = [1, 1, 2, 3, 5, 8]\n",
    "p = [2, 3, 5, 7]\n",
    "grading = [\"Tests\", \"Quizzes\", \"Individual Labs\", \"Group Labs\", \"Hackathons\"]\n",
    "grades = [300, 60, 120, 60, 120]\n",
    "oddjob = [1, 5.6, True, 4-7j, \"Hello\", [1, 2], [3.9, \"World\"]]"
   ]
  },
  {
   "cell_type": "code",
   "execution_count": 7,
   "metadata": {
    "colab": {
     "base_uri": "https://localhost:8080/"
    },
    "executionInfo": {
     "elapsed": 9,
     "status": "ok",
     "timestamp": 1649422149310,
     "user": {
      "displayName": "Hitesh Sharma",
      "userId": "00702427141854307722"
     },
     "user_tz": -330
    },
    "id": "qO7TKDYUXz_I",
    "outputId": "0732040d-fe0c-4b7d-f414-6eb79e96e525"
   },
   "outputs": [
    {
     "name": "stdout",
     "output_type": "stream",
     "text": [
      "5\n"
     ]
    }
   ],
   "source": [
    "print(len(grading))"
   ]
  },
  {
   "cell_type": "code",
   "execution_count": 9,
   "metadata": {
    "colab": {
     "base_uri": "https://localhost:8080/"
    },
    "executionInfo": {
     "elapsed": 653,
     "status": "ok",
     "timestamp": 1649422182057,
     "user": {
      "displayName": "Hitesh Sharma",
      "userId": "00702427141854307722"
     },
     "user_tz": -330
    },
    "id": "KY34LciJ6R3y",
    "outputId": "9c8430c2-e71d-4112-8359-053861a168c8"
   },
   "outputs": [
    {
     "name": "stdout",
     "output_type": "stream",
     "text": [
      "60 Hello\n",
      "Hackathons Individual Labs\n"
     ]
    }
   ],
   "source": [
    "# We access individual elements using the index\n",
    "# The first element is at index 0\n",
    "print(grades[1], oddjob[4])\n",
    "# We access the elements from the back using negative indices\n",
    "# -1 is the last, -2 is the last but one and so on\n",
    "print(grading[-1], grading[-3])"
   ]
  },
  {
   "cell_type": "code",
   "execution_count": 10,
   "metadata": {
    "colab": {
     "base_uri": "https://localhost:8080/"
    },
    "executionInfo": {
     "elapsed": 721,
     "status": "ok",
     "timestamp": 1649422694313,
     "user": {
      "displayName": "Hitesh Sharma",
      "userId": "00702427141854307722"
     },
     "user_tz": -330
    },
    "id": "nvc_UX5DXUvS",
    "outputId": "4e2629c9-99c6-4988-ac05-088870b0d90d"
   },
   "outputs": [
    {
     "name": "stdout",
     "output_type": "stream",
     "text": [
      "20 17\n"
     ]
    }
   ],
   "source": [
    "print(sum(f), sum(p))"
   ]
  },
  {
   "cell_type": "code",
   "execution_count": 11,
   "metadata": {
    "colab": {
     "base_uri": "https://localhost:8080/"
    },
    "executionInfo": {
     "elapsed": 4,
     "status": "ok",
     "timestamp": 1649422694771,
     "user": {
      "displayName": "Hitesh Sharma",
      "userId": "00702427141854307722"
     },
     "user_tz": -330
    },
    "id": "c1CQj0qfX9rS",
    "outputId": "529bab83-d9ae-496d-8370-573426fb4703"
   },
   "outputs": [
    {
     "name": "stdout",
     "output_type": "stream",
     "text": [
      "300 60\n"
     ]
    }
   ],
   "source": [
    "print(max(grades), min(grades))"
   ]
  },
  {
   "cell_type": "markdown",
   "metadata": {
    "id": "rp56AiOF6R4I"
   },
   "source": [
    "#### For\n",
    "We can step through the items in a collection, such as a list or string (and many others) using **for**"
   ]
  },
  {
   "cell_type": "code",
   "execution_count": 12,
   "metadata": {
    "colab": {
     "base_uri": "https://localhost:8080/"
    },
    "executionInfo": {
     "elapsed": 564,
     "status": "ok",
     "timestamp": 1649422718703,
     "user": {
      "displayName": "Hitesh Sharma",
      "userId": "00702427141854307722"
     },
     "user_tz": -330
    },
    "id": "KXEwDe6eYAyK",
    "outputId": "ca1ad751-a3cf-438f-c34d-e62a805ac6ee"
   },
   "outputs": [
    {
     "name": "stdout",
     "output_type": "stream",
     "text": [
      "1\n",
      "1\n",
      "2\n",
      "3\n",
      "5\n",
      "8\n"
     ]
    }
   ],
   "source": [
    "for num in f:\n",
    "    print(num)"
   ]
  },
  {
   "cell_type": "code",
   "execution_count": 13,
   "metadata": {
    "colab": {
     "base_uri": "https://localhost:8080/"
    },
    "executionInfo": {
     "elapsed": 467,
     "status": "ok",
     "timestamp": 1649422728066,
     "user": {
      "displayName": "Hitesh Sharma",
      "userId": "00702427141854307722"
     },
     "user_tz": -330
    },
    "id": "YhLhMcQjYKlo",
    "outputId": "bad74141-f0e0-4604-8f08-7d6390c14ea5"
   },
   "outputs": [
    {
     "name": "stdout",
     "output_type": "stream",
     "text": [
      "Tests\n",
      "Quizzes\n",
      "Individual Labs\n",
      "Group Labs\n",
      "Hackathons\n"
     ]
    }
   ],
   "source": [
    "for test in grading:\n",
    "    print(test)"
   ]
  },
  {
   "cell_type": "markdown",
   "metadata": {
    "id": "jJQ3_fHt6R4W"
   },
   "source": [
    "Note the absence of the usual *index* variable etc. We can step through the characters in a string the same way"
   ]
  },
  {
   "cell_type": "code",
   "execution_count": 14,
   "metadata": {
    "colab": {
     "base_uri": "https://localhost:8080/"
    },
    "executionInfo": {
     "elapsed": 625,
     "status": "ok",
     "timestamp": 1649422845143,
     "user": {
      "displayName": "Hitesh Sharma",
      "userId": "00702427141854307722"
     },
     "user_tz": -330
    },
    "id": "OjHy3Lej6R4Z",
    "outputId": "bcfed5c8-a7cb-4a0d-d658-6b0b911cbf81"
   },
   "outputs": [
    {
     "name": "stdout",
     "output_type": "stream",
     "text": [
      "H\n",
      "e\n",
      "l\n",
      "l\n",
      "o\n"
     ]
    }
   ],
   "source": [
    "for ch in \"Hello\":\n",
    "    print(ch)"
   ]
  },
  {
   "cell_type": "markdown",
   "metadata": {
    "id": "rrfZ6AHJYGUq"
   },
   "source": [
    "#### List methods"
   ]
  },
  {
   "cell_type": "code",
   "execution_count": 15,
   "metadata": {
    "colab": {
     "base_uri": "https://localhost:8080/"
    },
    "executionInfo": {
     "elapsed": 537,
     "status": "ok",
     "timestamp": 1649422860692,
     "user": {
      "displayName": "Hitesh Sharma",
      "userId": "00702427141854307722"
     },
     "user_tz": -330
    },
    "id": "g0NYrdIcYSnS",
    "outputId": "f61784fe-5b96-40b5-d6a5-be86fc12cba1"
   },
   "outputs": [
    {
     "name": "stdout",
     "output_type": "stream",
     "text": [
      "[1, 1, 2, 3, 5, 8]\n"
     ]
    }
   ],
   "source": [
    "print(f)"
   ]
  },
  {
   "cell_type": "code",
   "execution_count": 16,
   "metadata": {
    "colab": {
     "base_uri": "https://localhost:8080/"
    },
    "executionInfo": {
     "elapsed": 6,
     "status": "ok",
     "timestamp": 1649422862610,
     "user": {
      "displayName": "Hitesh Sharma",
      "userId": "00702427141854307722"
     },
     "user_tz": -330
    },
    "id": "etnU-RY7Y35i",
    "outputId": "78c755a2-0c86-4903-abad-d0fb731ed035"
   },
   "outputs": [
    {
     "name": "stdout",
     "output_type": "stream",
     "text": [
      "[1, 1, 2, 3, 5, 8, 13]\n"
     ]
    }
   ],
   "source": [
    "f.append(13)\n",
    "print(f)"
   ]
  },
  {
   "cell_type": "code",
   "execution_count": 17,
   "metadata": {
    "colab": {
     "base_uri": "https://localhost:8080/"
    },
    "executionInfo": {
     "elapsed": 5,
     "status": "ok",
     "timestamp": 1649422864717,
     "user": {
      "displayName": "Hitesh Sharma",
      "userId": "00702427141854307722"
     },
     "user_tz": -330
    },
    "id": "-GffS_CxZ27-",
    "outputId": "d1aeb068-01b3-4a21-a477-184b40d8c020"
   },
   "outputs": [
    {
     "name": "stdout",
     "output_type": "stream",
     "text": [
      "[1, 1, 2, 3, 5, 8, 13, 21, 34, 55, 89]\n"
     ]
    }
   ],
   "source": [
    "f.extend([21, 34, 55, 89])\n",
    "print(f)"
   ]
  },
  {
   "cell_type": "code",
   "execution_count": 18,
   "metadata": {
    "colab": {
     "base_uri": "https://localhost:8080/"
    },
    "executionInfo": {
     "elapsed": 478,
     "status": "ok",
     "timestamp": 1649422874285,
     "user": {
      "displayName": "Hitesh Sharma",
      "userId": "00702427141854307722"
     },
     "user_tz": -330
    },
    "id": "aPuIEVEQZC2k",
    "outputId": "b3474c15-ebb8-4a5e-e4ff-8395a03f4e2c"
   },
   "outputs": [
    {
     "name": "stdout",
     "output_type": "stream",
     "text": [
      "[2, 3, 5, 7, 11, 13, 17, 19]\n"
     ]
    }
   ],
   "source": [
    "p = p + [11, 13, 17, 19]\n",
    "print(p)"
   ]
  },
  {
   "cell_type": "markdown",
   "metadata": {
    "id": "wVSIgk_mZjli"
   },
   "source": [
    "#### Slicing\n",
    "We can get substrings and sublists using a slice"
   ]
  },
  {
   "cell_type": "code",
   "execution_count": 19,
   "metadata": {
    "colab": {
     "base_uri": "https://localhost:8080/"
    },
    "executionInfo": {
     "elapsed": 743,
     "status": "ok",
     "timestamp": 1649422895052,
     "user": {
      "displayName": "Hitesh Sharma",
      "userId": "00702427141854307722"
     },
     "user_tz": -330
    },
    "id": "_24F0GauZf4s",
    "outputId": "f8c22649-21d7-40fc-94ea-0013028c9f94"
   },
   "outputs": [
    {
     "name": "stdout",
     "output_type": "stream",
     "text": [
      "[1, 1, 2, 3, 5, 8, 13, 21, 34, 55, 89]\n",
      "[2, 3, 5, 8, 13]\n",
      "[2, 8, 34]\n",
      "[19, 17, 13, 11, 7, 5, 3, 2]\n"
     ]
    }
   ],
   "source": [
    "print(f)\n",
    "print(f[2:7])\n",
    "print(f[2:11:3])\n",
    "print(p[::-1])"
   ]
  },
  {
   "cell_type": "code",
   "execution_count": 20,
   "metadata": {
    "colab": {
     "base_uri": "https://localhost:8080/"
    },
    "executionInfo": {
     "elapsed": 5,
     "status": "ok",
     "timestamp": 1649422896737,
     "user": {
      "displayName": "Hitesh Sharma",
      "userId": "00702427141854307722"
     },
     "user_tz": -330
    },
    "id": "joopNHQdZpX8",
    "outputId": "b93304ae-f021-4dda-ac7e-d11aebe1fe8e"
   },
   "outputs": [
    {
     "name": "stdout",
     "output_type": "stream",
     "text": [
      "elloHello   wor\n",
      "l r!\n",
      "!dlrowolleH\n"
     ]
    }
   ],
   "source": [
    "# We can slice strings too\n",
    "print(h4s3w2[11:26])\n",
    "print(hsw[2::3])\n",
    "print(hw[::-1])"
   ]
  },
  {
   "cell_type": "code",
   "execution_count": null,
   "metadata": {
    "id": "wfjgRHbQRAqz"
   },
   "outputs": [],
   "source": []
  }
 ],
 "metadata": {
  "colab": {
   "collapsed_sections": [],
   "name": "02-Lists-Strings-for.ipynb",
   "provenance": []
  },
  "kernelspec": {
   "display_name": "Python 3",
   "language": "python",
   "name": "python3"
  },
  "language_info": {
   "codemirror_mode": {
    "name": "ipython",
    "version": 3
   },
   "file_extension": ".py",
   "mimetype": "text/x-python",
   "name": "python",
   "nbconvert_exporter": "python",
   "pygments_lexer": "ipython3",
   "version": "3.8.5"
  }
 },
 "nbformat": 4,
 "nbformat_minor": 1
}
