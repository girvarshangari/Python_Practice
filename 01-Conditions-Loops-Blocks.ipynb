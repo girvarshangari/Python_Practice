{
 "cells": [
  {
   "cell_type": "markdown",
   "metadata": {
    "id": "amoo2jS81XNa"
   },
   "source": [
    "# Python Quickstart\n",
    "## Conditions, Loops and Blocks\n",
    "In this notebook we will look at Python's conditional, looping and block constructs. We will also look at some output formatting"
   ]
  },
  {
   "cell_type": "markdown",
   "metadata": {
    "id": "TGshp3nJTOBi"
   },
   "source": [
    "#### Simple Conditions and blocks"
   ]
  },
  {
   "cell_type": "code",
   "execution_count": 1,
   "metadata": {
    "colab": {
     "base_uri": "https://localhost:8080/"
    },
    "executionInfo": {
     "elapsed": 426,
     "status": "ok",
     "timestamp": 1649418993139,
     "user": {
      "displayName": "Hitesh Sharma",
      "userId": "00702427141854307722"
     },
     "user_tz": -330
    },
    "id": "4Wyz-IUXTdps",
    "outputId": "21f45386-406b-4b1d-fd00-2b6c99f78ceb"
   },
   "outputs": [
    {
     "name": "stdout",
     "output_type": "stream",
     "text": [
      "Attendance requirement for Merit certificate not met\n",
      "Participation Certificate only\n"
     ]
    }
   ],
   "source": [
    "attendancePercentage = 70\n",
    "# In the code below the two print statements are one block. \n",
    "# They are indented by 4-spaces to convey that\n",
    "if attendancePercentage < 75:\n",
    "    print(\"Attendance requirement for Merit certificate not met\")\n",
    "    print(\"Participation Certificate only\")"
   ]
  },
  {
   "cell_type": "code",
   "execution_count": 2,
   "metadata": {
    "executionInfo": {
     "elapsed": 439,
     "status": "ok",
     "timestamp": 1649419271035,
     "user": {
      "displayName": "Hitesh Sharma",
      "userId": "00702427141854307722"
     },
     "user_tz": -330
    },
    "id": "eiofx0fDTiLa"
   },
   "outputs": [],
   "source": [
    "attendancePercentage = 80\n",
    "# In the code below the two print statements are one block. \n",
    "# They are indented by 4-spaces to convey that\n",
    "if attendancePercentage < 75:\n",
    "    print(\"Attendance requirement for Merit certificate not met\")\n",
    "    print(\"Participation Certificate only\")"
   ]
  },
  {
   "cell_type": "markdown",
   "metadata": {
    "id": "Emr6kqok1XNy"
   },
   "source": [
    "As you can see there is no output if the condition is not met"
   ]
  },
  {
   "cell_type": "markdown",
   "metadata": {
    "id": "EtNcuPAETN46"
   },
   "source": [
    "##### Else Statement"
   ]
  },
  {
   "cell_type": "code",
   "execution_count": 3,
   "metadata": {
    "colab": {
     "base_uri": "https://localhost:8080/"
    },
    "executionInfo": {
     "elapsed": 420,
     "status": "ok",
     "timestamp": 1649419298252,
     "user": {
      "displayName": "Hitesh Sharma",
      "userId": "00702427141854307722"
     },
     "user_tz": -330
    },
    "id": "OyfbCbhxTvYa",
    "outputId": "71730ab8-a97f-4925-d6db-a0f17cf0d025"
   },
   "outputs": [
    {
     "name": "stdout",
     "output_type": "stream",
     "text": [
      "Attendance requirement for Merit certificate met\n",
      "Verify grades\n"
     ]
    }
   ],
   "source": [
    "attendancePercentage = 80\n",
    "\n",
    "if attendancePercentage < 75:\n",
    "    print(\"Attendance requirement for Merit certificate not met\")\n",
    "    print(\"Partcipation Certificate only\")\n",
    "else:\n",
    "    print(\"Attendance requirement for Merit certificate met\")\n",
    "    print(\"Verify grades\")"
   ]
  },
  {
   "cell_type": "markdown",
   "metadata": {
    "id": "WVIq0Gc-TN1W"
   },
   "source": [
    "##### Else if ladder"
   ]
  },
  {
   "cell_type": "code",
   "execution_count": 4,
   "metadata": {
    "colab": {
     "base_uri": "https://localhost:8080/"
    },
    "executionInfo": {
     "elapsed": 723,
     "status": "ok",
     "timestamp": 1649419367015,
     "user": {
      "displayName": "Hitesh Sharma",
      "userId": "00702427141854307722"
     },
     "user_tz": -330
    },
    "id": "DJU1Gs8GT2vy",
    "outputId": "de74f5aa-22c6-4b40-eff6-6fe81a2c7af2"
   },
   "outputs": [
    {
     "name": "stdout",
     "output_type": "stream",
     "text": [
      "Attendance requirement for Merit certificate met\n",
      "Grade Requirement for Merit Certificate met\n"
     ]
    }
   ],
   "source": [
    "attendancePercentage = 80\n",
    "gradePoints = 320\n",
    "if attendancePercentage < 75:\n",
    "    print(\"Attendance requirement for Merit certificate not met\")\n",
    "    print(\"Participation Certificate only\")\n",
    "elif gradePoints < 300:\n",
    "    print(\"Attendance requirement for Merit certificate met\")\n",
    "    print(\"But insufficient grade\")\n",
    "    print(\"Participation Certificate only\")\n",
    "else:\n",
    "    print(\"Attendance requirement for Merit certificate met\")\n",
    "    print(\"Grade Requirement for Merit Certificate met\")"
   ]
  },
  {
   "cell_type": "markdown",
   "metadata": {
    "id": "vN9prcUzSGbQ"
   },
   "source": [
    "#### Simple While loop"
   ]
  },
  {
   "cell_type": "code",
   "execution_count": 5,
   "metadata": {
    "colab": {
     "base_uri": "https://localhost:8080/"
    },
    "executionInfo": {
     "elapsed": 824,
     "status": "ok",
     "timestamp": 1649419734787,
     "user": {
      "displayName": "Hitesh Sharma",
      "userId": "00702427141854307722"
     },
     "user_tz": -330
    },
    "id": "6o82u9jgSrt4",
    "outputId": "313898be-22b8-4f10-ea38-123e5473e6d1"
   },
   "outputs": [
    {
     "name": "stdout",
     "output_type": "stream",
     "text": [
      "0\n",
      "1\n",
      "2\n",
      "3\n",
      "4\n"
     ]
    }
   ],
   "source": [
    "#Lets write a while loop to print numbers from 0 to 4 \n",
    "x = 0\n",
    "while x < 5:\n",
    "     print(x)\n",
    "     x += 1"
   ]
  },
  {
   "cell_type": "markdown",
   "metadata": {
    "id": "NgawHbBOK65m"
   },
   "source": [
    "#### Blocks are indicated by indent"
   ]
  },
  {
   "cell_type": "code",
   "execution_count": 6,
   "metadata": {
    "colab": {
     "base_uri": "https://localhost:8080/",
     "height": 130
    },
    "executionInfo": {
     "elapsed": 554,
     "status": "error",
     "timestamp": 1649419760877,
     "user": {
      "displayName": "Hitesh Sharma",
      "userId": "00702427141854307722"
     },
     "user_tz": -330
    },
    "id": "K4PAp6g1bZO9",
    "outputId": "2845b513-853b-49f5-eb52-9e7217df4188",
    "scrolled": true
   },
   "outputs": [
    {
     "ename": "IndentationError",
     "evalue": "ignored",
     "output_type": "error",
     "traceback": [
      "\u001b[0;36m  File \u001b[0;32m\"<ipython-input-6-fc864e9669b0>\"\u001b[0;36m, line \u001b[0;32m3\u001b[0m\n\u001b[0;31m    print(\"Less indent\")\u001b[0m\n\u001b[0m                        ^\u001b[0m\n\u001b[0;31mIndentationError\u001b[0m\u001b[0;31m:\u001b[0m unindent does not match any outer indentation level\n"
     ]
    }
   ],
   "source": [
    "if True:\n",
    "    print(\"True\")\n",
    "   print(\"Less indent\")"
   ]
  },
  {
   "cell_type": "code",
   "execution_count": 7,
   "metadata": {
    "colab": {
     "base_uri": "https://localhost:8080/",
     "height": 130
    },
    "executionInfo": {
     "elapsed": 445,
     "status": "error",
     "timestamp": 1649419780746,
     "user": {
      "displayName": "Hitesh Sharma",
      "userId": "00702427141854307722"
     },
     "user_tz": -330
    },
    "id": "vHYRQHH8K65n",
    "outputId": "c61b5430-3451-4ae4-c1dc-9f44ee0e4d36"
   },
   "outputs": [
    {
     "ename": "IndentationError",
     "evalue": "ignored",
     "output_type": "error",
     "traceback": [
      "\u001b[0;36m  File \u001b[0;32m\"<ipython-input-7-a2af501379ec>\"\u001b[0;36m, line \u001b[0;32m3\u001b[0m\n\u001b[0;31m    print(\"More indent\")\u001b[0m\n\u001b[0m    ^\u001b[0m\n\u001b[0;31mIndentationError\u001b[0m\u001b[0;31m:\u001b[0m unexpected indent\n"
     ]
    }
   ],
   "source": [
    "if True:\n",
    "    print(\"True\")\n",
    "     print(\"More indent\")"
   ]
  },
  {
   "cell_type": "markdown",
   "metadata": {
    "id": "4j0AnUtbS9jq"
   },
   "source": [
    "#### Combining conditions\n",
    "We can combine conditions using **and**, **or** and **not** operators"
   ]
  },
  {
   "cell_type": "code",
   "execution_count": 8,
   "metadata": {
    "colab": {
     "base_uri": "https://localhost:8080/"
    },
    "executionInfo": {
     "elapsed": 469,
     "status": "ok",
     "timestamp": 1649419830679,
     "user": {
      "displayName": "Hitesh Sharma",
      "userId": "00702427141854307722"
     },
     "user_tz": -330
    },
    "id": "7Q8SaGDP1XOY",
    "outputId": "b7f75273-24b0-4680-b216-54cb2ae56ebb"
   },
   "outputs": [
    {
     "name": "stdout",
     "output_type": "stream",
     "text": [
      "Attendance and grade requirement for Merit certificate met\n"
     ]
    }
   ],
   "source": [
    "attendancePercentage = 80\n",
    "gradePoints = 320\n",
    "if attendancePercentage >= 75 and gradePoints >= 300:\n",
    "    print(\"Attendance and grade requirement for Merit certificate met\")\n",
    "else: \n",
    "    print(\"Either attendance of grade (or both) insufficient\")\n",
    "    print(\"Participation certificate only\")"
   ]
  },
  {
   "cell_type": "markdown",
   "metadata": {
    "id": "CifE3XpO1XOf"
   },
   "source": [
    "##### More on blocks\n",
    "* blocks start below a line ending in :\n",
    "* all lines in a block are indented (by 4 spaces)\n",
    "* Nested blocks --> nested indenting\n",
    "* End of block --> unindent\n"
   ]
  },
  {
   "cell_type": "code",
   "execution_count": 9,
   "metadata": {
    "executionInfo": {
     "elapsed": 437,
     "status": "ok",
     "timestamp": 1649419924967,
     "user": {
      "displayName": "Hitesh Sharma",
      "userId": "00702427141854307722"
     },
     "user_tz": -330
    },
    "id": "ojFY-NQH1XOh"
   },
   "outputs": [],
   "source": [
    "mark = 76\n",
    "if mark < 40:\n",
    "    status = \"Fail\"\n",
    "    letterGrade = \"F\"\n",
    "else:\n",
    "    status = \"Pass\"\n",
    "    if mark < 50:\n",
    "        letterGrade = \"D\"\n",
    "    elif mark < 60:\n",
    "        letterGrade = \"C\"\n",
    "    elif mark < 75:\n",
    "        letterGrade = \"B\"\n",
    "    elif mark < 90:\n",
    "        letterGrade = \"A\"\n",
    "    else:\n",
    "        letterGrade = \"A+\""
   ]
  },
  {
   "cell_type": "markdown",
   "metadata": {
    "id": "3CO8nFOq1XOp"
   },
   "source": [
    "#### Python Special\n",
    "Often we have to compare if a value is between two limits; say if a number is between 17 and 21. Or if a string is lexicographically between \"Alpha\" and \"Omega\" \n",
    "\n",
    "In almost all languages this needs a compound condition with **and**\n",
    "The pythonic way is:"
   ]
  },
  {
   "cell_type": "code",
   "execution_count": 10,
   "metadata": {
    "colab": {
     "base_uri": "https://localhost:8080/"
    },
    "executionInfo": {
     "elapsed": 407,
     "status": "ok",
     "timestamp": 1649420135568,
     "user": {
      "displayName": "Hitesh Sharma",
      "userId": "00702427141854307722"
     },
     "user_tz": -330
    },
    "id": "NDoWLKL61XOv",
    "outputId": "71d198aa-fb3a-4249-f63c-7ccc8d1e972d"
   },
   "outputs": [
    {
     "data": {
      "text/plain": [
       "True"
      ]
     },
     "execution_count": 10,
     "metadata": {},
     "output_type": "execute_result"
    }
   ],
   "source": [
    "x = 19\n",
    "17 < x < 21"
   ]
  },
  {
   "cell_type": "code",
   "execution_count": 11,
   "metadata": {
    "colab": {
     "base_uri": "https://localhost:8080/"
    },
    "executionInfo": {
     "elapsed": 401,
     "status": "ok",
     "timestamp": 1649420143443,
     "user": {
      "displayName": "Hitesh Sharma",
      "userId": "00702427141854307722"
     },
     "user_tz": -330
    },
    "id": "FyeYMKc4K65r",
    "outputId": "37f77815-56ad-481e-89a7-6b14ae37aa44"
   },
   "outputs": [
    {
     "data": {
      "text/plain": [
       "True"
      ]
     },
     "execution_count": 11,
     "metadata": {},
     "output_type": "execute_result"
    }
   ],
   "source": [
    "s =\"Gamma\"\n",
    "\"Alpha\" < s < \"Omega\""
   ]
  },
  {
   "cell_type": "code",
   "execution_count": 12,
   "metadata": {
    "colab": {
     "base_uri": "https://localhost:8080/"
    },
    "executionInfo": {
     "elapsed": 383,
     "status": "ok",
     "timestamp": 1649420153280,
     "user": {
      "displayName": "Hitesh Sharma",
      "userId": "00702427141854307722"
     },
     "user_tz": -330
    },
    "id": "GxMPHVbJK65s",
    "outputId": "bfce00a4-56d0-4aba-e2f1-f6327bbd42b4"
   },
   "outputs": [
    {
     "data": {
      "text/plain": [
       "False"
      ]
     },
     "execution_count": 12,
     "metadata": {},
     "output_type": "execute_result"
    }
   ],
   "source": [
    "s = \"Theta\"\n",
    "\"Alpha\" < s < \"Omega\""
   ]
  },
  {
   "cell_type": "markdown",
   "metadata": {
    "id": "6kJMq7fhK65s"
   },
   "source": [
    "We can also do\n",
    "\n",
    "a < b < c < d, a > b > c > e etc "
   ]
  },
  {
   "cell_type": "markdown",
   "metadata": {
    "id": "klMp0qEVK65t"
   },
   "source": [
    "#### More loop examples\n",
    "With some print options"
   ]
  },
  {
   "cell_type": "code",
   "execution_count": 15,
   "metadata": {
    "colab": {
     "base_uri": "https://localhost:8080/"
    },
    "executionInfo": {
     "elapsed": 411,
     "status": "ok",
     "timestamp": 1649420190584,
     "user": {
      "displayName": "Hitesh Sharma",
      "userId": "00702427141854307722"
     },
     "user_tz": -330
    },
    "id": "Mxlrp8LhK65t",
    "outputId": "65f73c1c-b9fc-4bc3-b4c7-4b7a39394987"
   },
   "outputs": [
    {
     "name": "stdout",
     "output_type": "stream",
     "text": [
      "10 8 6 4 2 "
     ]
    }
   ],
   "source": [
    "n = 10\n",
    "while n > 0:\n",
    "    print(n, end=\" \")\n",
    "    n -= 2"
   ]
  },
  {
   "cell_type": "code",
   "execution_count": 16,
   "metadata": {
    "colab": {
     "base_uri": "https://localhost:8080/"
    },
    "executionInfo": {
     "elapsed": 398,
     "status": "ok",
     "timestamp": 1649420198343,
     "user": {
      "displayName": "Hitesh Sharma",
      "userId": "00702427141854307722"
     },
     "user_tz": -330
    },
    "id": "XjNc2Y35K65t",
    "outputId": "71b8fdeb-61e9-4a45-8e2a-bf0a06e008d2"
   },
   "outputs": [
    {
     "name": "stdout",
     "output_type": "stream",
     "text": [
      "17::20\n",
      "14::16\n",
      "13::18\n",
      "10::14\n",
      "9::16\n",
      "6::12\n"
     ]
    }
   ],
   "source": [
    "a, b = 17, 20\n",
    "while a > 5 and b > 7:\n",
    "    print(a, b, sep=\"::\")\n",
    "    if a % 2 == 0:\n",
    "        a -= 1\n",
    "        b += 2\n",
    "    else:\n",
    "        a -= 3\n",
    "        b -= 4\n",
    "    "
   ]
  },
  {
   "cell_type": "markdown",
   "metadata": {
    "id": "OSJiQvHqK65u"
   },
   "source": [
    "Python has **break** and **continue** statements"
   ]
  }
 ],
 "metadata": {
  "colab": {
   "collapsed_sections": [],
   "name": "01-Conditions-Loops-Blocks.ipynb",
   "provenance": []
  },
  "kernelspec": {
   "display_name": "Python 3",
   "language": "python",
   "name": "python3"
  },
  "language_info": {
   "codemirror_mode": {
    "name": "ipython",
    "version": 3
   },
   "file_extension": ".py",
   "mimetype": "text/x-python",
   "name": "python",
   "nbconvert_exporter": "python",
   "pygments_lexer": "ipython3",
   "version": "3.8.5"
  }
 },
 "nbformat": 4,
 "nbformat_minor": 1
}
