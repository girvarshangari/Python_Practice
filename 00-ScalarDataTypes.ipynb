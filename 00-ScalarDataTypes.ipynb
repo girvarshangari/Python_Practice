{
 "cells": [
  {
   "cell_type": "markdown",
   "metadata": {
    "id": "1n0x0UNgsS2k"
   },
   "source": [
    "# Python Quickstart"
   ]
  },
  {
   "cell_type": "markdown",
   "metadata": {
    "id": "_EO_XgDNsS2o"
   },
   "source": [
    "## Scalar Data Types and Operations\n",
    "Python has four scalar data types:\n",
    "  * Integer\n",
    "  * Float\n",
    "  * Boolean\n",
    "  * Complex\n",
    "  \n",
    "We will review these in this notebook"
   ]
  },
  {
   "cell_type": "markdown",
   "metadata": {
    "id": "SN8LD46qsS2r"
   },
   "source": [
    "#### Integers\n",
    "The usual arithmetic operators are available: + for addition, - for subtraction and * for multiplication. "
   ]
  },
  {
   "cell_type": "code",
   "execution_count": 1,
   "metadata": {
    "colab": {
     "base_uri": "https://localhost:8080/"
    },
    "executionInfo": {
     "elapsed": 389,
     "status": "ok",
     "timestamp": 1649416648045,
     "user": {
      "displayName": "Hitesh Sharma",
      "userId": "00702427141854307722"
     },
     "user_tz": -330
    },
    "id": "qKeyOlOzsS2t",
    "outputId": "a480495a-c738-419d-8537-f001e80af82b"
   },
   "outputs": [
    {
     "name": "stdout",
     "output_type": "stream",
     "text": [
      "6\n",
      "12879\n",
      "4\n",
      "-1\n",
      "48\n",
      "204\n"
     ]
    }
   ],
   "source": [
    "print(2 + 4)\n",
    "print(12878 + 1)\n",
    "print(7 - 3)\n",
    "print(127 - 128)\n",
    "print(8 * 6)\n",
    "print(17 * 12)"
   ]
  },
  {
   "cell_type": "markdown",
   "metadata": {
    "id": "06Il024lsS22"
   },
   "source": [
    "There are *two* division operators: / for everyday (float) division and // for truncating (integer) division "
   ]
  },
  {
   "cell_type": "code",
   "execution_count": 2,
   "metadata": {
    "colab": {
     "base_uri": "https://localhost:8080/"
    },
    "executionInfo": {
     "elapsed": 387,
     "status": "ok",
     "timestamp": 1649416665542,
     "user": {
      "displayName": "Hitesh Sharma",
      "userId": "00702427141854307722"
     },
     "user_tz": -330
    },
    "id": "6aK-b8Y2sS24",
    "outputId": "ea91015b-3dc1-4057-f261-23ed5f3c077f"
   },
   "outputs": [
    {
     "name": "stdout",
     "output_type": "stream",
     "text": [
      "4.25\n",
      "4\n"
     ]
    }
   ],
   "source": [
    "print(17 / 4)\n",
    "print(17 // 4)"
   ]
  },
  {
   "cell_type": "markdown",
   "metadata": {
    "id": "9OOQ7zvPsS3A"
   },
   "source": [
    "The modulo operator % and the exponentiation operator ** are also available. "
   ]
  },
  {
   "cell_type": "code",
   "execution_count": 3,
   "metadata": {
    "colab": {
     "base_uri": "https://localhost:8080/"
    },
    "executionInfo": {
     "elapsed": 537,
     "status": "ok",
     "timestamp": 1649416687565,
     "user": {
      "displayName": "Hitesh Sharma",
      "userId": "00702427141854307722"
     },
     "user_tz": -330
    },
    "id": "35CmYM9wsS3C",
    "outputId": "d4ba5798-49eb-4113-e6fd-7e4289ac2b12"
   },
   "outputs": [
    {
     "name": "stdout",
     "output_type": "stream",
     "text": [
      "0\n",
      "2\n"
     ]
    }
   ],
   "source": [
    "print(18 % 3)\n",
    "print(72 % 5)"
   ]
  },
  {
   "cell_type": "markdown",
   "metadata": {
    "id": "e6h2Kk45sS3J"
   },
   "source": [
    "The usual operator precedence rules and use of parentheses to override that are available"
   ]
  },
  {
   "cell_type": "code",
   "execution_count": 4,
   "metadata": {
    "colab": {
     "base_uri": "https://localhost:8080/"
    },
    "executionInfo": {
     "elapsed": 360,
     "status": "ok",
     "timestamp": 1649416717623,
     "user": {
      "displayName": "Hitesh Sharma",
      "userId": "00702427141854307722"
     },
     "user_tz": -330
    },
    "id": "gHaHUE6KsS3K",
    "outputId": "c2f7530a-2558-43ca-82db-014eaa285524"
   },
   "outputs": [
    {
     "name": "stdout",
     "output_type": "stream",
     "text": [
      "697\n",
      "99999999999997\n",
      "100000000000\n"
     ]
    }
   ],
   "source": [
    "print(10 ** 2 * 7 - 3)\n",
    "print(10 ** (2 * 7) - 3)\n",
    "print(10 ** (2 * 7 - 3))"
   ]
  },
  {
   "cell_type": "markdown",
   "metadata": {
    "id": "7LovUrwAKcfo"
   },
   "source": [
    "Python integers are not limited to any upper limit"
   ]
  },
  {
   "cell_type": "code",
   "execution_count": 5,
   "metadata": {
    "colab": {
     "base_uri": "https://localhost:8080/"
    },
    "executionInfo": {
     "elapsed": 393,
     "status": "ok",
     "timestamp": 1649417078357,
     "user": {
      "displayName": "Hitesh Sharma",
      "userId": "00702427141854307722"
     },
     "user_tz": -330
    },
    "id": "iCK8wuAJsS3V",
    "outputId": "460e789a-ffbb-4f6e-8271-54d6bb582c8f"
   },
   "outputs": [
    {
     "name": "stdout",
     "output_type": "stream",
     "text": [
      "16525142209084993191965006835763122499561597357637591794155674917234996428269575026659311571104864762535215407339432025590200538603976411404665218963132749322871667982441827882227157442592136572835697580577002943964988221911059026994173582484825742195247291274759850603140432379764091790235567190410675775962900183452599412165317638067230891810990320580666085441050593869791350699216706517499542670586634886052087017820410905964444558869146418244597120429979103952092989164512800101011289347426567208710314190920051270092607459721109467521365360867288677987148464165171800839333951163324994371057187155074288402580629483476314944738104051656987325576751746199897991725007675051190921500213097278325465310845327692821587282052558972419335977552331758871843917747361680407582186786845621204537100698991060543436203623306857249583543655261625672302666146321225012176753336990522783934569223056690766496718252983683782843733092440515617564413473287954103794045711047712057255205852448996227930510006654133990692542855217294512837210434893756516028226640878645078889659700398063987176958529714138681978573509244436047691111260571288258822913673872128802087371995371780730292804920437219071178492423446466136195210620476292495642233626623524484774842235569435364457370920604187855961201427694409086738818734179775480506491103409681069586764431872764246928575351402521596827446479057664892851033162935831488388586010557338099224042101494315540594304042449301967359499617939535411896225730077553783377044776817568632883120001902487637069313199225266430652807663817329473484291017357180673944238586738708836888630931091307582137544304928416633716526356540412661645917963030190835162802558120190639251182068601\n"
     ]
    }
   ],
   "source": [
    "a = 123456789 \n",
    "b = a ** 2\n",
    "c = b ** 3\n",
    "d = c ** 5\n",
    "e = d ** 7\n",
    "print(e)"
   ]
  },
  {
   "cell_type": "markdown",
   "metadata": {
    "id": "0dn0wQcgsS3c"
   },
   "source": [
    "##### Assignment operators\n",
    "The standard assignment operators are available. That is,  $\\alpha$  $\\odot=\\beta$ is a shorthand for $\\alpha = \\alpha \\odot \\beta$\n",
    "where $\\odot$ is any binary arithmetic operator we saw above"
   ]
  },
  {
   "cell_type": "code",
   "execution_count": 6,
   "metadata": {
    "colab": {
     "base_uri": "https://localhost:8080/"
    },
    "executionInfo": {
     "elapsed": 391,
     "status": "ok",
     "timestamp": 1649417140249,
     "user": {
      "displayName": "Hitesh Sharma",
      "userId": "00702427141854307722"
     },
     "user_tz": -330
    },
    "id": "L5fVA3cbsS3d",
    "outputId": "7508ab4f-6be4-46ef-a595-28ceca2ee853"
   },
   "outputs": [
    {
     "name": "stdout",
     "output_type": "stream",
     "text": [
      "17 5\n",
      "12 5\n",
      "60 5\n"
     ]
    }
   ],
   "source": [
    "a = 12\n",
    "b = 5\n",
    "a += b\n",
    "print(a, b)\n",
    "a -= b\n",
    "print(a, b)\n",
    "a *= b\n",
    "print(a, b)"
   ]
  },
  {
   "cell_type": "markdown",
   "metadata": {
    "id": "CRojcyvEsS3k"
   },
   "source": [
    "#### Boolean\n",
    "The two constants True and False are defined.\n",
    "\n",
    "The usual boolean operators are also available: ==, !=, >, >=, <, <= "
   ]
  },
  {
   "cell_type": "code",
   "execution_count": 7,
   "metadata": {
    "colab": {
     "base_uri": "https://localhost:8080/"
    },
    "executionInfo": {
     "elapsed": 386,
     "status": "ok",
     "timestamp": 1649417451973,
     "user": {
      "displayName": "Hitesh Sharma",
      "userId": "00702427141854307722"
     },
     "user_tz": -330
    },
    "id": "iIiWZ9hVsS3n",
    "outputId": "45427dae-a564-43de-b327-abdd9bbff906"
   },
   "outputs": [
    {
     "name": "stdout",
     "output_type": "stream",
     "text": [
      "True False True True False\n"
     ]
    }
   ],
   "source": [
    "a = 12\n",
    "b = 13\n",
    "print(a == b - 1,a == b, a != b, a < b, a >= b)"
   ]
  },
  {
   "cell_type": "markdown",
   "metadata": {
    "id": "SLP12ZVZKUx1"
   },
   "source": [
    "Python also has a nice extension for boolean operators"
   ]
  },
  {
   "cell_type": "code",
   "execution_count": 10,
   "metadata": {
    "colab": {
     "base_uri": "https://localhost:8080/"
    },
    "executionInfo": {
     "elapsed": 5,
     "status": "ok",
     "timestamp": 1649417543705,
     "user": {
      "displayName": "Hitesh Sharma",
      "userId": "00702427141854307722"
     },
     "user_tz": -330
    },
    "id": "F0ZQfYf6KUx1",
    "outputId": "4cbe626b-0e24-4005-f89a-2102867bfe1d"
   },
   "outputs": [
    {
     "data": {
      "text/plain": [
       "True"
      ]
     },
     "execution_count": 10,
     "metadata": {},
     "output_type": "execute_result"
    }
   ],
   "source": [
    "a < b < 20"
   ]
  },
  {
   "cell_type": "markdown",
   "metadata": {
    "id": "jly-_eC9sS3u"
   },
   "source": [
    "#### Float\n",
    "Python has a float datatype (and it is the same as C's double!) and the above operations are available"
   ]
  },
  {
   "cell_type": "code",
   "execution_count": 11,
   "metadata": {
    "colab": {
     "base_uri": "https://localhost:8080/"
    },
    "executionInfo": {
     "elapsed": 360,
     "status": "ok",
     "timestamp": 1649417574094,
     "user": {
      "displayName": "Hitesh Sharma",
      "userId": "00702427141854307722"
     },
     "user_tz": -330
    },
    "id": "RjQ5ftEmsS3z",
    "outputId": "b8f5c433-c2fe-4deb-84b9-9d447cbea7b9"
   },
   "outputs": [
    {
     "name": "stdout",
     "output_type": "stream",
     "text": [
      "12.9\n",
      "3.6\n",
      "16.5\n",
      "9.3\n",
      "46.440000000000005\n",
      "3.5833333333333335\n"
     ]
    }
   ],
   "source": [
    "a = 12.9\n",
    "b = 3.6\n",
    "c = a + b\n",
    "d = a - b\n",
    "e = a * b #Watch out for the round off error!\n",
    "f = a / b\n",
    "print(a, b, c, d, e, f, sep=\"\\n\")"
   ]
  },
  {
   "cell_type": "code",
   "execution_count": 1,
   "metadata": {
    "id": "fcoYmB9fsS3-"
   },
   "outputs": [
    {
     "name": "stdout",
     "output_type": "stream",
     "text": [
      "0.6666666666666666\n",
      "False\n",
      "7.105427357601002e-15\n",
      "True\n"
     ]
    }
   ],
   "source": [
    "##### UNDERSTAND FLOATING POINT IS ALWAYS APPROXIMATE!\n",
    "print(2/3)\n",
    "##### NEVER COMPARE floats FOR EQUALITY\n",
    "print(12.9 * 3.6 == 46.44)\n",
    "print(12.9 * 3.6 - 46.44)\n",
    "EPSILON = 0.0000001\n",
    "print(abs(12.9 * 3.6 - 46.44) <= EPSILON)"
   ]
  },
  {
   "cell_type": "markdown",
   "metadata": {
    "id": "p2labHwQsS4F"
   },
   "source": [
    "#### Complex\n",
    "Complex numbers are built-in"
   ]
  },
  {
   "cell_type": "code",
   "execution_count": 12,
   "metadata": {
    "colab": {
     "base_uri": "https://localhost:8080/"
    },
    "executionInfo": {
     "elapsed": 423,
     "status": "ok",
     "timestamp": 1649417606922,
     "user": {
      "displayName": "Hitesh Sharma",
      "userId": "00702427141854307722"
     },
     "user_tz": -330
    },
    "id": "Dz3Ub5RosS4G",
    "outputId": "415017ca-645a-48a6-a933-c5755488b178"
   },
   "outputs": [
    {
     "name": "stdout",
     "output_type": "stream",
     "text": [
      "(3-4j)\n",
      "3.0\n",
      "-4.0\n",
      "5.0\n"
     ]
    }
   ],
   "source": [
    "z = 3 - 4j\n",
    "print(z, z.real, z.imag, abs(z), sep=\"\\n\")"
   ]
  },
  {
   "cell_type": "code",
   "execution_count": 13,
   "metadata": {
    "executionInfo": {
     "elapsed": 4,
     "status": "ok",
     "timestamp": 1649417607330,
     "user": {
      "displayName": "Hitesh Sharma",
      "userId": "00702427141854307722"
     },
     "user_tz": -330
    },
    "id": "r83i-IAqsS4L"
   },
   "outputs": [],
   "source": [
    "x = 5 + 12j"
   ]
  },
  {
   "cell_type": "code",
   "execution_count": 14,
   "metadata": {
    "colab": {
     "base_uri": "https://localhost:8080/"
    },
    "executionInfo": {
     "elapsed": 4,
     "status": "ok",
     "timestamp": 1649417607331,
     "user": {
      "displayName": "Hitesh Sharma",
      "userId": "00702427141854307722"
     },
     "user_tz": -330
    },
    "id": "QTIr1OZ0sS4S",
    "outputId": "980671a5-5b9f-4ded-b55d-378af4bb973a"
   },
   "outputs": [
    {
     "name": "stdout",
     "output_type": "stream",
     "text": [
      "(8+8j)\n",
      "(-2-16j)\n",
      "(63+16j)\n",
      "(-1.32+2.24j)\n"
     ]
    }
   ],
   "source": [
    "print(z + x, z - x, z * x, x / z, sep=\"\\n\")"
   ]
  },
  {
   "cell_type": "markdown",
   "metadata": {
    "id": "GWzDnyjjsS4Y"
   },
   "source": [
    "#### Variables\n",
    "We have been using variables already. Python variable naming rules are simple and similar to all major programming languages\n",
    " * must start with a letter\n",
    " * can have letters, numbers and underscore\n",
    " * case sensitive\n",
    "\n",
    "*Note that we need not declare variables but using an undefined variable is an error*"
   ]
  },
  {
   "cell_type": "code",
   "execution_count": 15,
   "metadata": {
    "colab": {
     "base_uri": "https://localhost:8080/",
     "height": 165
    },
    "executionInfo": {
     "elapsed": 371,
     "status": "error",
     "timestamp": 1649417659928,
     "user": {
      "displayName": "Hitesh Sharma",
      "userId": "00702427141854307722"
     },
     "user_tz": -330
    },
    "id": "1hclSpY0sS4Z",
    "outputId": "e3a3fb24-6ec3-42e8-be2b-c5f8a051e68b"
   },
   "outputs": [
    {
     "ename": "NameError",
     "evalue": "ignored",
     "output_type": "error",
     "traceback": [
      "\u001b[0;31m---------------------------------------------------------------------------\u001b[0m",
      "\u001b[0;31mNameError\u001b[0m                                 Traceback (most recent call last)",
      "\u001b[0;32m<ipython-input-15-e177df2b0f91>\u001b[0m in \u001b[0;36m<module>\u001b[0;34m()\u001b[0m\n\u001b[0;32m----> 1\u001b[0;31m \u001b[0mz\u001b[0m \u001b[0;34m=\u001b[0m \u001b[0;36m3\u001b[0m \u001b[0;34m-\u001b[0m \u001b[0;36m4\u001b[0m\u001b[0;34m*\u001b[0m\u001b[0mp\u001b[0m\u001b[0;34m\u001b[0m\u001b[0;34m\u001b[0m\u001b[0m\n\u001b[0m",
      "\u001b[0;31mNameError\u001b[0m: name 'p' is not defined"
     ]
    }
   ],
   "source": [
    "z = 3 - 4*p"
   ]
  },
  {
   "cell_type": "markdown",
   "metadata": {
    "id": "nOw_C3fMKUx5"
   },
   "source": [
    "Unicode variable names are available "
   ]
  },
  {
   "cell_type": "code",
   "execution_count": 28,
   "metadata": {
    "colab": {
     "base_uri": "https://localhost:8080/"
    },
    "executionInfo": {
     "elapsed": 352,
     "status": "ok",
     "timestamp": 1649418759038,
     "user": {
      "displayName": "Hitesh Sharma",
      "userId": "00702427141854307722"
     },
     "user_tz": -330
    },
    "id": "NOLzkVdQKUx5",
    "outputId": "c26974b0-8a50-4030-f60e-cdd40dd8473a"
   },
   "outputs": [
    {
     "name": "stdout",
     "output_type": "stream",
     "text": [
      "The two roots of 5x^2 + 6x -7 are 18.166 and -48.166\n"
     ]
    }
   ],
   "source": [
    "a = 5\n",
    "b = 6\n",
    "c = -7\n",
    "\n",
    "α = (-b + (b * b - 4 * a * c) ** 0.5)/2 * a\n",
    "β = (-b - (b * b - 4 * a * c) ** 0.5)/2 * a\n",
    "\n",
    "print(f\"The two roots of {a}x^2 + {b}x {c} are {α:.5} and {β:.5}\")"
   ]
  },
  {
   "cell_type": "code",
   "execution_count": null,
   "metadata": {
    "id": "DrsPPaeICZ8h"
   },
   "outputs": [],
   "source": []
  },
  {
   "cell_type": "markdown",
   "metadata": {
    "id": "97OLR8PEKUx6"
   },
   "source": [
    "The above formatting is known as f-strings. You can read about it here: https://docs.python.org/3.7/tutorial/inputoutput.html#formatted-string-literals"
   ]
  },
  {
   "cell_type": "code",
   "execution_count": null,
   "metadata": {
    "id": "YoAGqWmIKUx6"
   },
   "outputs": [],
   "source": []
  }
 ],
 "metadata": {
  "colab": {
   "collapsed_sections": [],
   "name": "00-ScalarDataTypes.ipynb",
   "provenance": []
  },
  "kernelspec": {
   "display_name": "Python 3",
   "language": "python",
   "name": "python3"
  },
  "language_info": {
   "codemirror_mode": {
    "name": "ipython",
    "version": 3
   },
   "file_extension": ".py",
   "mimetype": "text/x-python",
   "name": "python",
   "nbconvert_exporter": "python",
   "pygments_lexer": "ipython3",
   "version": "3.8.5"
  }
 },
 "nbformat": 4,
 "nbformat_minor": 1
}
