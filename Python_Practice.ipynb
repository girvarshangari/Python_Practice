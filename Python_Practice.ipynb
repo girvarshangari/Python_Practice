{
 "cells": [
  {
   "cell_type": "code",
   "execution_count": 21,
   "metadata": {},
   "outputs": [
    {
     "data": {
      "text/plain": [
       "True"
      ]
     },
     "execution_count": 21,
     "metadata": {},
     "output_type": "execute_result"
    }
   ],
   "source": [
    "#Check if a number is a perfect square\n",
    "def isPerfectSquare(n):\n",
    "    r = 1\n",
    "    count = 0\n",
    "    while r <= n:\n",
    "        if r*r == n:\n",
    "            return True\n",
    "            break\n",
    "        else:\n",
    "            count+=1\n",
    "        r+=1\n",
    "    if count == n:\n",
    "        return False\n",
    "isPerfectSquare(144)"
   ]
  },
  {
   "cell_type": "code",
   "execution_count": null,
   "metadata": {},
   "outputs": [],
   "source": [
    "# Creating a Fibonacci Series\n",
    "\n",
    "a,b = 0,1\n",
    "print(a,end = ' ')\n",
    "while b < 150:\n",
    "    print(b,end = ' ')\n",
    "    a,b = b,b+a"
   ]
  },
  {
   "cell_type": "code",
   "execution_count": 12,
   "metadata": {},
   "outputs": [
    {
     "name": "stdout",
     "output_type": "stream",
     "text": [
      "233168\n"
     ]
    }
   ],
   "source": [
    "# Write sum of multiples of 3 or 5 \n",
    "# Method 1 (using lists)\n",
    "\n",
    "def mult_3_5(LIMIT):\n",
    "    sum = 0\n",
    "    for i in range(LIMIT):\n",
    "        if i%3 == 0 or i%5 == 0:\n",
    "            sum+=i\n",
    "    print(sum)\n",
    "mult_3_5(1000)\n",
    "\n",
    "# Method 2\n",
    "\n",
    "#sumMult1 = sum(range(1,1000,3)) + sum(range(1,1000,5))\n",
    "#sumMult1\n",
    "\n",
    "# Method 3 (Using sets)\n",
    "sumMult2 = sum(set(range(3,1000,3)) | set(range(5,1000,5)))\n",
    "sumMult2\n",
    "\n",
    "\n"
   ]
  },
  {
   "cell_type": "code",
   "execution_count": 25,
   "metadata": {},
   "outputs": [
    {
     "data": {
      "text/plain": [
       "False"
      ]
     },
     "execution_count": 25,
     "metadata": {},
     "output_type": "execute_result"
    }
   ],
   "source": [
    "# Check if all digits in a number are even or not (use recursive method)\n",
    "def iseven(n: int) -> bool:\n",
    "    while n>1:\n",
    "        if n==2:\n",
    "            return True\n",
    "        if n%2 != 0:\n",
    "            return False\n",
    "        return(iseven(n//10))\n",
    "iseven(678)"
   ]
  },
  {
   "cell_type": "code",
   "execution_count": 27,
   "metadata": {},
   "outputs": [
    {
     "data": {
      "text/plain": [
       "False"
      ]
     },
     "execution_count": 27,
     "metadata": {},
     "output_type": "execute_result"
    }
   ],
   "source": [
    "# Check if a  number is a power of 3\n",
    "\n",
    "def isPower3(n):\n",
    "    while n > 0:\n",
    "        if n == 1:\n",
    "            return True\n",
    "        if n%3 == 0:\n",
    "            return isPower3(n/3)\n",
    "        else:\n",
    "            return False\n",
    "\n",
    "# Check if a  number is a power of any number\n",
    "\n",
    "def isPowern(n,2):\n",
    "    while n > 0:\n",
    "        if n == 1:\n",
    "            return True\n",
    "        if n%2 == 0:\n",
    "            return isPowern(n/3)\n",
    "        else:\n",
    "            return False"
   ]
  },
  {
   "cell_type": "code",
   "execution_count": 32,
   "metadata": {},
   "outputs": [
    {
     "data": {
      "text/plain": [
       "False"
      ]
     },
     "execution_count": 32,
     "metadata": {},
     "output_type": "execute_result"
    }
   ],
   "source": [
    "# Check if a  number is a power of any number\n",
    "def isPowern(n,m):\n",
    "    while n > 0:\n",
    "        if n == 1:\n",
    "            return True\n",
    "        if n%m == 0:\n",
    "            return isPowern(n/m,m)\n",
    "        else:\n",
    "            return False\n",
    "isPowern(100,2)"
   ]
  },
  {
   "cell_type": "code",
   "execution_count": 35,
   "metadata": {},
   "outputs": [
    {
     "name": "stdout",
     "output_type": "stream",
     "text": [
      "[5, 4, 6, 9, 0]\n"
     ]
    }
   ],
   "source": [
    "# Get individual digits of a number in same order\n",
    "def ind_digits(n):\n",
    "    mylist = []\n",
    "    while n > 0:\n",
    "        mylist.insert(0,n%10)\n",
    "        n//=10\n",
    "    print(mylist)\n",
    "\n",
    "ind_digits(54690)\n"
   ]
  },
  {
   "cell_type": "code",
   "execution_count": 36,
   "metadata": {},
   "outputs": [
    {
     "name": "stdout",
     "output_type": "stream",
     "text": [
      "[0, 9, 6, 4, 5]\n"
     ]
    }
   ],
   "source": [
    "# Get individual digits of a number in reverse order\n",
    "def ind_digits(n):\n",
    "    mylist = []\n",
    "    while n > 0:\n",
    "        mylist.append(n%10)\n",
    "        n//=10\n",
    "    print(mylist)\n",
    "\n",
    "ind_digits(54690)"
   ]
  },
  {
   "cell_type": "code",
   "execution_count": 58,
   "metadata": {},
   "outputs": [
    {
     "data": {
      "text/plain": [
       "True"
      ]
     },
     "execution_count": 58,
     "metadata": {},
     "output_type": "execute_result"
    }
   ],
   "source": [
    "# Check if digits in a number are in acending order or not\n",
    "\n",
    "def isAscending(n):\n",
    "    while n > 0:\n",
    "        if n < 10:\n",
    "            return True\n",
    "        if (n//10)%10 <= n%10:\n",
    "            return isAscending(n//10)\n",
    "        else:\n",
    "            return False\n",
    "        n//=10\n",
    "        \n",
    "isAscending(569)"
   ]
  },
  {
   "cell_type": "code",
   "execution_count": 78,
   "metadata": {},
   "outputs": [
    {
     "data": {
      "text/plain": [
       "18"
      ]
     },
     "execution_count": 78,
     "metadata": {},
     "output_type": "execute_result"
    }
   ],
   "source": [
    "# Use Filter function to return sum of multiples of 3\n",
    "\n",
    "def multOfThree(n):\n",
    "    if n%3 == 0:\n",
    "        return True\n",
    "\n",
    "sum(list(filter(multOfThree,[1,2,3,4,5,6,7,8,9])))\n"
   ]
  },
  {
   "cell_type": "code",
   "execution_count": 3,
   "metadata": {},
   "outputs": [
    {
     "ename": "TypeError",
     "evalue": "square() takes 0 positional arguments but 1 was given",
     "output_type": "error",
     "traceback": [
      "\u001b[1;31m---------------------------------------------------------------------------\u001b[0m",
      "\u001b[1;31mTypeError\u001b[0m                                 Traceback (most recent call last)",
      "\u001b[1;32m<ipython-input-3-12faf4cf99bc>\u001b[0m in \u001b[0;36m<module>\u001b[1;34m\u001b[0m\n\u001b[0;32m      5\u001b[0m \u001b[1;33m\u001b[0m\u001b[0m\n\u001b[0;32m      6\u001b[0m \u001b[0mnum\u001b[0m \u001b[1;33m=\u001b[0m \u001b[1;33m[\u001b[0m\u001b[1;36m1\u001b[0m\u001b[1;33m,\u001b[0m\u001b[1;36m2\u001b[0m\u001b[1;33m,\u001b[0m\u001b[1;36m3\u001b[0m\u001b[1;33m,\u001b[0m\u001b[1;36m4\u001b[0m\u001b[1;33m]\u001b[0m\u001b[1;33m\u001b[0m\u001b[1;33m\u001b[0m\u001b[0m\n\u001b[1;32m----> 7\u001b[1;33m \u001b[0msqNum\u001b[0m \u001b[1;33m=\u001b[0m \u001b[0mlist\u001b[0m\u001b[1;33m(\u001b[0m\u001b[0mmap\u001b[0m\u001b[1;33m(\u001b[0m\u001b[0msquare\u001b[0m\u001b[1;33m,\u001b[0m\u001b[0mnum\u001b[0m\u001b[1;33m)\u001b[0m\u001b[1;33m)\u001b[0m\u001b[1;33m\u001b[0m\u001b[1;33m\u001b[0m\u001b[0m\n\u001b[0m\u001b[0;32m      8\u001b[0m \u001b[0msqNum\u001b[0m\u001b[1;33m\u001b[0m\u001b[1;33m\u001b[0m\u001b[0m\n",
      "\u001b[1;31mTypeError\u001b[0m: square() takes 0 positional arguments but 1 was given"
     ]
    }
   ],
   "source": [
    "# Use map function to get square of numbers\n",
    "\n",
    "def square():\n",
    "    return n*n\n",
    "\n",
    "num = [1,2,3,4]\n",
    "sqNum = list(map(square,num))\n",
    "sqNum"
   ]
  }
 ],
 "metadata": {
  "kernelspec": {
   "display_name": "Python 3",
   "language": "python",
   "name": "python3"
  },
  "language_info": {
   "codemirror_mode": {
    "name": "ipython",
    "version": 3
   },
   "file_extension": ".py",
   "mimetype": "text/x-python",
   "name": "python",
   "nbconvert_exporter": "python",
   "pygments_lexer": "ipython3",
   "version": "3.8.5"
  }
 },
 "nbformat": 4,
 "nbformat_minor": 4
}
